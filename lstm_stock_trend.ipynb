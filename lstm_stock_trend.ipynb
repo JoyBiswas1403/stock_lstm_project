{
 "cells": [
  {
   "cell_type": "markdown",
   "id": "b6b902ea",
   "metadata": {},
   "source": [
    "# Stock Price Trend Prediction with LSTM\n",
    "\n",
    "**Objective:** Predict future stock prices using past trends.\n",
    "\n",
    "**Tools:** Python, Keras (TensorFlow), Pandas, Matplotlib, yfinance\n",
    "\n",
    "This notebook:\n",
    "- Fetches data using the `yfinance` API\n",
    "- Normalizes and prepares data\n",
    "- Builds an LSTM model with Keras\n",
    "- Trains and validates the model\n",
    "- Plots predictions vs. actuals\n",
    "- Integrates Moving Average (MA) & RSI indicators\n",
    "- Saves model weights and generated plots\n",
    "\n",
    "> Tip: Run this end-to-end locally where internet is available.\n"
   ]
  },
  {
   "cell_type": "code",
   "execution_count": null,
   "id": "4fa9fcd7",
   "metadata": {},
   "outputs": [],
   "source": [
    "# Install packages if needed (uncomment if running in a fresh environment)\n",
    "# %pip install yfinance pandas numpy scikit-learn matplotlib tensorflow==2.* ta streamlit\n",
    "\n",
    "import os\n",
    "import math\n",
    "from dataclasses import dataclass\n",
    "from typing import Tuple\n",
    "\n",
    "import numpy as np\n",
    "import pandas as pd\n",
    "import matplotlib.pyplot as plt\n",
    "\n",
    "from sklearn.preprocessing import MinMaxScaler\n",
    "from sklearn.metrics import mean_squared_error, mean_absolute_error\n",
    "\n",
    "import yfinance as yf\n",
    "import tensorflow as tf\n",
    "from tensorflow.keras.models import Sequential\n",
    "from tensorflow.keras.layers import LSTM, Dense, Dropout\n",
    "from tensorflow.keras.callbacks import EarlyStopping, ModelCheckpoint\n",
    "\n",
    "# Technical indicators (RSI)\n",
    "import ta\n",
    "\n",
    "plt.rcParams['figure.figsize'] = (10, 5)\n",
    "plt.rcParams['axes.grid'] = True\n",
    "\n",
    "SEED = 42\n",
    "np.random.seed(SEED)\n",
    "tf.random.set_seed(SEED)\n",
    "\n",
    "os.makedirs('artifacts', exist_ok=True)\n",
    "os.makedirs('plots', exist_ok=True)\n"
   ]
  },
  {
   "cell_type": "markdown",
   "id": "8a27a8ca",
   "metadata": {},
   "source": [
    "## Parameters"
   ]
  },
  {
   "cell_type": "code",
   "execution_count": null,
   "id": "06c027b4",
   "metadata": {},
   "outputs": [],
   "source": [
    "# You can tweak these\n",
    "TICKER = 'AAPL'           # any Yahoo Finance ticker\n",
    "START_DATE = '2015-01-01'\n",
    "END_DATE = None           # None = today\n",
    "TEST_SIZE = 0.2           # last 20% for validation\n",
    "LOOKBACK = 60             # LSTM sequence length (days)\n",
    "PRED_STEPS = 1            # one-step ahead prediction\n",
    "BATCH_SIZE = 32\n",
    "EPOCHS = 30\n",
    "LEARNING_RATE = 1e-3\n",
    "DROPOUT = 0.2\n",
    "MODEL_PATH = 'artifacts/lstm_stock_model.h5'\n",
    "SCALER_PATH = 'artifacts/scaler.npy'  # we'll save scaler min/max\n",
    "PLOTS_DIR = 'plots'\n"
   ]
  },
  {
   "cell_type": "markdown",
   "id": "39615e30",
   "metadata": {},
   "source": [
    "## Fetch data with `yfinance` and add indicators (MA & RSI)"
   ]
  },
  {
   "cell_type": "code",
   "execution_count": null,
   "id": "38acca67",
   "metadata": {},
   "outputs": [],
   "source": [
    "def fetch_with_indicators(ticker: str, start: str, end: str | None) -> pd.DataFrame:\n",
    "    df = yf.download(ticker, start=start, end=end, progress=False)\n",
    "    if df.empty:\n",
    "        raise ValueError(f'No data returned for {ticker}. Check the ticker or date range.')\n",
    "    df = df[['Open', 'High', 'Low', 'Close', 'Adj Close', 'Volume']].copy()\n",
    "    # Moving averages\n",
    "    df['MA20'] = df['Close'].rolling(window=20, min_periods=1).mean()\n",
    "    df['MA50'] = df['Close'].rolling(window=50, min_periods=1).mean()\n",
    "    # RSI (14)\n",
    "    df['RSI14'] = ta.momentum.rsi(df['Close'], window=14, fillna=True)\n",
    "    df.dropna(inplace=True)\n",
    "    return df\n",
    "\n",
    "data = fetch_with_indicators(TICKER, START_DATE, END_DATE)\n",
    "data.tail()\n"
   ]
  },
  {
   "cell_type": "markdown",
   "id": "c4f888ae",
   "metadata": {},
   "source": [
    "## Prepare sequences for LSTM (scaling + windowing)"
   ]
  },
  {
   "cell_type": "code",
   "execution_count": null,
   "id": "ee7a0189",
   "metadata": {},
   "outputs": [],
   "source": [
    "# We'll predict next-day Close given recent history & indicators.\n",
    "features = ['Close', 'MA20', 'MA50', 'RSI14', 'Open', 'High', 'Low', 'Volume']\n",
    "target = 'Close'\n",
    "\n",
    "# Scale features to [0,1]\n",
    "scaler = MinMaxScaler()\n",
    "scaled = scaler.fit_transform(data[features])\n",
    "np.save(SCALER_PATH, {'min_': scaler.data_min_, 'max_': scaler.data_max_, 'scale_': scaler.scale_, 'data_range_': scaler.data_range_, 'feature_names': features}, allow_pickle=True)\n",
    "\n",
    "def make_sequences(values: np.ndarray, lookback: int, pred_steps: int = 1) -> Tuple[np.ndarray, np.ndarray]:\n",
    "    X, y = [], []\n",
    "    for i in range(lookback, len(values) - pred_steps + 1):\n",
    "        X.append(values[i - lookback:i])\n",
    "        y.append(values[i:i + pred_steps, 0])  # target is 'Close' scaled (col 0 in 'features')\n",
    "    return np.array(X), np.array(y).squeeze()\n",
    "\n",
    "X, y = make_sequences(scaled, LOOKBACK, PRED_STEPS)\n",
    "\n",
    "# Train/validation split by time (no shuffling)\n",
    "split_idx = int(len(X) * (1 - TEST_SIZE))\n",
    "X_train, X_val = X[:split_idx], X[split_idx:]\n",
    "y_train, y_val = y[:split_idx], y[split_idx:]\n",
    "\n",
    "X_train.shape, X_val.shape\n"
   ]
  },
  {
   "cell_type": "markdown",
   "id": "5e8ae9c5",
   "metadata": {},
   "source": [
    "## Build LSTM model"
   ]
  },
  {
   "cell_type": "code",
   "execution_count": null,
   "id": "6fb5c596",
   "metadata": {},
   "outputs": [],
   "source": [
    "def build_lstm(input_shape, lr=LEARNING_RATE, dropout=DROPOUT):\n",
    "    model = Sequential([\n",
    "        LSTM(64, return_sequences=True, input_shape=input_shape),\n",
    "        Dropout(dropout),\n",
    "        LSTM(32),\n",
    "        Dropout(dropout),\n",
    "        Dense(PRED_STEPS)  # linear output\n",
    "    ])\n",
    "    model.compile(optimizer=tf.keras.optimizers.Adam(learning_rate=lr), loss='mse', metrics=['mae'])\n",
    "    return model\n",
    "\n",
    "model = build_lstm((LOOKBACK, len(features)))\n",
    "model.summary()\n"
   ]
  },
  {
   "cell_type": "markdown",
   "id": "9e34fd5e",
   "metadata": {},
   "source": [
    "## Train with EarlyStopping & save best weights"
   ]
  },
  {
   "cell_type": "code",
   "execution_count": null,
   "id": "001933f6",
   "metadata": {},
   "outputs": [],
   "source": [
    "callbacks = [\n",
    "    EarlyStopping(monitor='val_loss', patience=5, restore_best_weights=True),\n",
    "    ModelCheckpoint(MODEL_PATH, monitor='val_loss', save_best_only=True, verbose=1)\n",
    "]\n",
    "\n",
    "history = model.fit(\n",
    "    X_train, y_train,\n",
    "    validation_data=(X_val, y_val),\n",
    "    epochs=EPOCHS,\n",
    "    batch_size=BATCH_SIZE,\n",
    "    verbose=1,\n",
    "    callbacks=callbacks\n",
    ")\n",
    "\n",
    "# Plot training curves\n",
    "plt.figure()\n",
    "plt.plot(history.history['loss'], label='train_loss')\n",
    "plt.plot(history.history['val_loss'], label='val_loss')\n",
    "plt.title('Training History (MSE)')\n",
    "plt.xlabel('Epoch')\n",
    "plt.ylabel('Loss')\n",
    "plt.legend()\n",
    "plt.tight_layout()\n",
    "plt.savefig(os.path.join(PLOTS_DIR, 'training_history.png'))\n",
    "plt.show()\n"
   ]
  },
  {
   "cell_type": "markdown",
   "id": "b7d39857",
   "metadata": {},
   "source": [
    "## Evaluate & plot predictions vs actual (on validation set)"
   ]
  },
  {
   "cell_type": "code",
   "execution_count": null,
   "id": "7d461b19",
   "metadata": {},
   "outputs": [],
   "source": [
    "# Predict on validation\n",
    "val_pred_scaled = model.predict(X_val)\n",
    "\n",
    "# If PRED_STEPS==1, shape (n,1). We'll work with 1-step ahead for plotting clarity.\n",
    "val_pred_scaled = val_pred_scaled.squeeze()\n",
    "y_val_scaled = y_val.squeeze()\n",
    "\n",
    "# Inverse scale to price space for 'Close' only\n",
    "minmax = np.load(SCALER_PATH, allow_pickle=True).item()\n",
    "min_, max_ = minmax['min_'][0], minmax['max_'][0]  # 'Close' is first feature\n",
    "data_range_ = minmax['data_range_'][0]\n",
    "\n",
    "# MinMax inverse for a single feature: x = x_scaled * data_range + data_min\n",
    "def inverse_scale_close(x_scaled):\n",
    "    return x_scaled * data_range_ + min_\n",
    "\n",
    "val_pred = inverse_scale_close(val_pred_scaled)\n",
    "y_val_actual = inverse_scale_close(y_val_scaled)\n",
    "\n",
    "# Build an index aligned to the validation tail of the original data\n",
    "val_index = data.index[-len(y_val_actual):]\n",
    "\n",
    "rmse = math.sqrt(mean_squared_error(y_val_actual, val_pred))\n",
    "mae = mean_absolute_error(y_val_actual, val_pred)\n",
    "print(f'Validation RMSE: {rmse:.4f}  |  MAE: {mae:.4f}')\n",
    "\n",
    "# Plot predictions vs actual\n",
    "plt.figure()\n",
    "plt.plot(val_index, y_val_actual, label='Actual Close')\n",
    "plt.plot(val_index, val_pred, label='Predicted Close')\n",
    "plt.title(f'{TICKER} — Actual vs Predicted Close (Validation)')\n",
    "plt.xlabel('Date'); plt.ylabel('Price')\n",
    "plt.legend()\n",
    "plt.tight_layout()\n",
    "plt.savefig(os.path.join(PLOTS_DIR, 'val_pred_vs_actual.png'))\n",
    "plt.show()\n",
    "\n",
    "# Plot with indicators (MA & RSI) for context\n",
    "fig, ax = plt.subplots()\n",
    "ax.plot(data.index, data['Close'], label='Close')\n",
    "ax.plot(data.index, data['MA20'], label='MA20')\n",
    "ax.plot(data.index, data['MA50'], label='MA50')\n",
    "ax.set_title(f'{TICKER} Close with MA20/MA50')\n",
    "ax.set_xlabel('Date'); ax.set_ylabel('Price')\n",
    "ax.legend()\n",
    "fig.tight_layout()\n",
    "fig.savefig(os.path.join(PLOTS_DIR, 'close_ma.png'))\n",
    "plt.show()\n",
    "\n",
    "# RSI plot\n",
    "plt.figure()\n",
    "plt.plot(data.index, data['RSI14'], label='RSI14')\n",
    "plt.axhline(70, linestyle='--')\n",
    "plt.axhline(30, linestyle='--')\n",
    "plt.title(f'{TICKER} RSI14')\n",
    "plt.xlabel('Date'); plt.ylabel('RSI')\n",
    "plt.legend()\n",
    "plt.tight_layout()\n",
    "plt.savefig(os.path.join(PLOTS_DIR, 'rsi.png'))\n",
    "plt.show()\n"
   ]
  },
  {
   "cell_type": "markdown",
   "id": "5235c111",
   "metadata": {},
   "source": [
    "## Optional: Simple rolling forecast for the next N days"
   ]
  },
  {
   "cell_type": "code",
   "execution_count": null,
   "id": "1b2be877",
   "metadata": {},
   "outputs": [],
   "source": [
    "N_DAYS_AHEAD = 5\n",
    "\n",
    "def forecast_next_days(model, last_values_scaled: np.ndarray, n_days: int) -> list[float]:\n",
    "    # Roll forward predictions by feeding outputs back into the input window (on the Close feature only).\n",
    "    # last_values_scaled: array of shape (LOOKBACK, n_features) in scaled space.\n",
    "    window = last_values_scaled.copy()\n",
    "    preds = []\n",
    "    for _ in range(n_days):\n",
    "        x = window[np.newaxis, ...]\n",
    "        pred_close_scaled = model.predict(x, verbose=0).squeeze()\n",
    "        if np.ndim(pred_close_scaled) == 0:\n",
    "            preds.append(float(pred_close_scaled))\n",
    "        else:\n",
    "            preds.append(float(np.array(pred_close_scaled).item()))\n",
    "        # Shift window: roll and insert predicted close (keep other features as last row)\n",
    "        new_row = window[-1].copy()\n",
    "        new_row[0] = preds[-1]  # update Close\n",
    "        window = np.vstack([window[1:], new_row])\n",
    "    return preds\n",
    "\n",
    "last_window = scaled[-LOOKBACK:]\n",
    "future_preds_scaled = forecast_next_days(model, last_window, N_DAYS_AHEAD)\n",
    "future_preds = [inverse_scale_close(p) for p in future_preds_scaled]\n",
    "\n",
    "print('Next days (predicted Close):', future_preds)"
   ]
  },
  {
   "cell_type": "markdown",
   "id": "be334a73",
   "metadata": {},
   "source": [
    "## Save artifacts"
   ]
  },
  {
   "cell_type": "code",
   "execution_count": null,
   "id": "fe574d86",
   "metadata": {},
   "outputs": [],
   "source": [
    "# The best model has already been saved to MODEL_PATH by ModelCheckpoint.\n",
    "print(f\"Saved best model to: {MODEL_PATH}\")\n",
    "print(f\"Scaler saved to: {SCALER_PATH}\")\n",
    "print(f\"Plots saved in: {PLOTS_DIR}/\")\n"
   ]
  }
 ],
 "metadata": {},
 "nbformat": 4,
 "nbformat_minor": 5
}
